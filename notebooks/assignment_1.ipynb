{
 "cells": [
  {
   "cell_type": "code",
   "execution_count": 29,
   "metadata": {},
   "outputs": [],
   "source": [
    "import numpy as np\n",
    "from scipy.stats import beta"
   ]
  },
  {
   "cell_type": "code",
   "execution_count": 30,
   "metadata": {},
   "outputs": [],
   "source": [
    "data = np.array([1, 0, 0, 0, 1, 0, 0, 0, 0, 1, 0, 0, 0, 1, 0])\n",
    "# data = np.array([1, 0, 1, 1, 1, 0, 1, 0, 1])"
   ]
  },
  {
   "cell_type": "code",
   "execution_count": 31,
   "metadata": {},
   "outputs": [
    {
     "name": "stdout",
     "output_type": "stream",
     "text": [
      "Posterior mean: 0.29411764705882354\n",
      "95% Credible interval: (0.11016995471711763, 0.5237708198961273)\n"
     ]
    }
   ],
   "source": [
    "# Define the prior distribution\n",
    "a = 1\n",
    "b = 1\n",
    "prior = beta(a, b)\n",
    "\n",
    "# Define the likelihood function\n",
    "def likelihood(theta, data):\n",
    "    return theta ** sum(data) * (1 - theta) ** (len(data) - sum(data))\n",
    "\n",
    "# Compute the posterior distribution\n",
    "posterior = beta(a + sum(data), b + len(data) - sum(data))\n",
    "\n",
    "# Print the posterior mean and 95% credible interval\n",
    "print(\"Posterior mean:\", posterior.mean())\n",
    "print(\"95% Credible interval:\", beta.interval(0.95, a + sum(data), b + len(data) - sum(data)))"
   ]
  },
  {
   "cell_type": "code",
   "execution_count": 32,
   "metadata": {},
   "outputs": [
    {
     "name": "stdout",
     "output_type": "stream",
     "text": [
      "Next draw 1 mean: 0.2959\n",
      "Next draw 1 std dev: 0.45644626189727966\n",
      "Next draw 2 mean: 0.2955\n",
      "Next draw 2 std dev: 0.4562671914569357\n",
      "Next draw 3 mean: 0.2913\n",
      "Next draw 3 std dev: 0.4543614310216042\n",
      "Next draw 4 mean: 0.2962\n",
      "Next draw 4 std dev: 0.4565802886678312\n",
      "Next draw 5 mean: 0.289\n",
      "Next draw 5 std dev: 0.4532979152830951\n"
     ]
    }
   ],
   "source": [
    "# Generate samples from the posterior predictive distribution for the next 5 draws\n",
    "num_samples = 10000\n",
    "samples = posterior.rvs(size=num_samples)\n",
    "next_draws = np.random.binomial(1, samples, size=(5, num_samples)).T\n",
    "\n",
    "# Print the mean and standard deviation of the posterior predictive distribution for each of the next 5 draws\n",
    "for i in range(5):\n",
    "    print(\"Next draw\", i+1, \"mean:\", next_draws[:,i].mean())\n",
    "    print(\"Next draw\", i+1, \"std dev:\", next_draws[:,i].std())\n"
   ]
  },
  {
   "cell_type": "code",
   "execution_count": 33,
   "metadata": {},
   "outputs": [
    {
     "name": "stdout",
     "output_type": "stream",
     "text": [
      "Probability of 3 or more draws of 1 in the next 5 draws: 0.1865\n"
     ]
    }
   ],
   "source": [
    "# Compute the probability of 3 or more draws of 1 in the next 5 draws\n",
    "prob_3_or_more_1 = (next_draws.sum(axis=1) >= 3).mean()\n",
    "\n",
    "print(\"Probability of 3 or more draws of 1 in the next 5 draws:\", prob_3_or_more_1)"
   ]
  }
 ],
 "metadata": {
  "kernelspec": {
   "display_name": "Python 3",
   "language": "python",
   "name": "python3"
  },
  "language_info": {
   "codemirror_mode": {
    "name": "ipython",
    "version": 3
   },
   "file_extension": ".py",
   "mimetype": "text/x-python",
   "name": "python",
   "nbconvert_exporter": "python",
   "pygments_lexer": "ipython3",
   "version": "3.11.1"
  },
  "orig_nbformat": 4
 },
 "nbformat": 4,
 "nbformat_minor": 2
}
